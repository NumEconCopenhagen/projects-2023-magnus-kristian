{
 "cells": [
  {
   "attachments": {},
   "cell_type": "markdown",
   "metadata": {},
   "source": [
    "# Inaugural Project"
   ]
  },
  {
   "attachments": {},
   "cell_type": "markdown",
   "metadata": {},
   "source": [
    "Imports and set magics:"
   ]
  },
  {
   "cell_type": "code",
   "execution_count": 1,
   "metadata": {},
   "outputs": [],
   "source": [
    "import numpy as np\n",
    "import pandas as pd\n",
    "import matplotlib.pyplot as plt # baseline module\n",
    "\n",
    "# Predefine options for all plots\n",
    "plt.rcParams.update({\"axes.grid\":True,\"grid.color\":\"black\",\"grid.alpha\":\"0.25\",\"grid.linestyle\":\"-\"})\n",
    "plt.rcParams.update({'font.size': 14})\n",
    "\n",
    "# autoreload modules when code is run. Otherwise, python will not see recent changes. \n",
    "%load_ext autoreload\n",
    "%autoreload 2\n",
    "\n",
    "# Import your own code\n",
    "from ConsumerProblem import HouseholdSpecializationModelClass"
   ]
  },
  {
   "attachments": {},
   "cell_type": "markdown",
   "metadata": {},
   "source": [
    "# Question 1"
   ]
  },
  {
   "attachments": {},
   "cell_type": "markdown",
   "metadata": {},
   "source": [
    "We first update the HouseholdSpecializationModelClass such that the consumption of home production supports $\\sigma\\ne1$.\n",
    "We then show how $\\frac{H_F}{H_M}$ changes for each combination of $\\alpha\\in\\{0.25,0.50,0.75\\}$ and $\\sigma\\in\\{0.5,1.0,1.5\\}$.\n",
    "\n",
    "1. When $\\alpha$ increases the productivity of females relative to males increases. Relatively more productive females increases the optimal quantity of female relative to male household work.\n",
    "2. As $\\sigma$ increases the substitutability between male and female household work increases. Higher substitutability cp. magnifies a given difference in household work between males and females.\n",
    "\n",
    "The differences in home productivity give rise to differences in relative home production as households make a larger division of labor between work in the household and in the market. The potential for division of labor increases as substitutability increases. "
   ]
  },
  {
   "cell_type": "code",
   "execution_count": 2,
   "metadata": {},
   "outputs": [
    {
     "name": "stderr",
     "output_type": "stream",
     "text": [
      "c:\\Users\\krist\\OneDrive - Københavns Universitet\\8. semester\\Introduction to programming and numerical analysis\\projects-2023-magnus-kristian\\inauguralproject\\ConsumerProblem.py:62: RuntimeWarning: divide by zero encountered in reciprocal\n",
      "  H=((1-par.alpha)*HM**((par.sigma-1)/par.sigma)+par.alpha*HF**((par.sigma-1)/par.sigma))**(par.sigma/(par.sigma-1))\n"
     ]
    },
    {
     "data": {
      "text/html": [
       "<div>\n",
       "<style scoped>\n",
       "    .dataframe tbody tr th:only-of-type {\n",
       "        vertical-align: middle;\n",
       "    }\n",
       "\n",
       "    .dataframe tbody tr th {\n",
       "        vertical-align: top;\n",
       "    }\n",
       "\n",
       "    .dataframe thead th {\n",
       "        text-align: right;\n",
       "    }\n",
       "</style>\n",
       "<table border=\"1\" class=\"dataframe\">\n",
       "  <thead>\n",
       "    <tr style=\"text-align: right;\">\n",
       "      <th></th>\n",
       "      <th>alpha</th>\n",
       "      <th>sigma</th>\n",
       "      <th>HF</th>\n",
       "      <th>HM</th>\n",
       "      <th>HF/HM</th>\n",
       "    </tr>\n",
       "  </thead>\n",
       "  <tbody>\n",
       "    <tr>\n",
       "      <th>0</th>\n",
       "      <td>0.25</td>\n",
       "      <td>0.5</td>\n",
       "      <td>3.0</td>\n",
       "      <td>5.5</td>\n",
       "      <td>0.55</td>\n",
       "    </tr>\n",
       "    <tr>\n",
       "      <th>1</th>\n",
       "      <td>0.25</td>\n",
       "      <td>1.0</td>\n",
       "      <td>2.0</td>\n",
       "      <td>6.5</td>\n",
       "      <td>0.31</td>\n",
       "    </tr>\n",
       "    <tr>\n",
       "      <th>2</th>\n",
       "      <td>0.25</td>\n",
       "      <td>1.5</td>\n",
       "      <td>1.5</td>\n",
       "      <td>7.0</td>\n",
       "      <td>0.21</td>\n",
       "    </tr>\n",
       "    <tr>\n",
       "      <th>3</th>\n",
       "      <td>0.50</td>\n",
       "      <td>0.5</td>\n",
       "      <td>4.5</td>\n",
       "      <td>4.5</td>\n",
       "      <td>1.00</td>\n",
       "    </tr>\n",
       "    <tr>\n",
       "      <th>4</th>\n",
       "      <td>0.50</td>\n",
       "      <td>1.0</td>\n",
       "      <td>4.5</td>\n",
       "      <td>4.5</td>\n",
       "      <td>1.00</td>\n",
       "    </tr>\n",
       "    <tr>\n",
       "      <th>5</th>\n",
       "      <td>0.50</td>\n",
       "      <td>1.5</td>\n",
       "      <td>4.5</td>\n",
       "      <td>4.5</td>\n",
       "      <td>1.00</td>\n",
       "    </tr>\n",
       "    <tr>\n",
       "      <th>6</th>\n",
       "      <td>0.75</td>\n",
       "      <td>0.5</td>\n",
       "      <td>5.5</td>\n",
       "      <td>3.0</td>\n",
       "      <td>1.83</td>\n",
       "    </tr>\n",
       "    <tr>\n",
       "      <th>7</th>\n",
       "      <td>0.75</td>\n",
       "      <td>1.0</td>\n",
       "      <td>6.5</td>\n",
       "      <td>2.0</td>\n",
       "      <td>3.25</td>\n",
       "    </tr>\n",
       "    <tr>\n",
       "      <th>8</th>\n",
       "      <td>0.75</td>\n",
       "      <td>1.5</td>\n",
       "      <td>7.0</td>\n",
       "      <td>1.5</td>\n",
       "      <td>4.67</td>\n",
       "    </tr>\n",
       "  </tbody>\n",
       "</table>\n",
       "</div>"
      ],
      "text/plain": [
       "   alpha  sigma   HF   HM HF/HM\n",
       "0   0.25    0.5  3.0  5.5  0.55\n",
       "1   0.25    1.0  2.0  6.5  0.31\n",
       "2   0.25    1.5  1.5  7.0  0.21\n",
       "3   0.50    0.5  4.5  4.5  1.00\n",
       "4   0.50    1.0  4.5  4.5  1.00\n",
       "5   0.50    1.5  4.5  4.5  1.00\n",
       "6   0.75    0.5  5.5  3.0  1.83\n",
       "7   0.75    1.0  6.5  2.0  3.25\n",
       "8   0.75    1.5  7.0  1.5  4.67"
      ]
     },
     "execution_count": 2,
     "metadata": {},
     "output_type": "execute_result"
    }
   ],
   "source": [
    "#a. Setting parameters and generating empty lists\n",
    "alpha_list = [0.25, 0.50, 0.75]\n",
    "sigma_list = [0.5, 1.0, 1.5]\n",
    "alpha_list2 = []\n",
    "sigma_list2 = []\n",
    "HF_list = []\n",
    "HM_list = []\n",
    "HF_HM_list = []\n",
    "\n",
    "#b. Generating Household as class\n",
    "Household = HouseholdSpecializationModelClass()\n",
    "\n",
    "#c. Loops through each combination of alpha and sigma in list. Solves the model for each combination and appends result to empty lists\n",
    "for i_alpha,alpha in enumerate(alpha_list):\n",
    "    for i_sigma,sigma in enumerate(sigma_list):\n",
    "            #c.1 Sets parameters in class equal to parameter in list\n",
    "            Household.par.alpha = alpha\n",
    "            Household.par.sigma = sigma\n",
    "\n",
    "            #c.2 Solves model\n",
    "            result = Household.solve_discrete()\n",
    "\n",
    "            #c.3 Appends results\n",
    "            alpha_list2.append(alpha)\n",
    "            sigma_list2.append(sigma)\n",
    "            HF_list.append(result.HF)\n",
    "            HM_list.append(result.HM)\n",
    "            HF_HM_list.append(result.HF/result.HM)\n",
    "\n",
    "#d. Generating DataFrame df to show results\n",
    "df= pd.DataFrame().from_dict({'alpha':alpha_list2,'sigma':sigma_list2,'HF':HF_list,'HM':HM_list,'HF/HM':HF_HM_list})\n",
    "df['HF/HM'] = df['HF/HM'].apply(lambda x: f'{x:2.2f}') \n",
    "df"
   ]
  },
  {
   "attachments": {},
   "cell_type": "markdown",
   "metadata": {},
   "source": [
    "# Question 2"
   ]
  },
  {
   "attachments": {},
   "cell_type": "markdown",
   "metadata": {},
   "source": [
    "To test how changes in the relative wages affect the ratio of hours worked in the household (in the baseline model case with equal productivity), we fix the male wage at 1 and loop through 5 values of female wages. In each case we solve the model and store the log of relative hours worked and the log of relative wages. We plot the results in a graph.\n",
    "\n",
    "<b>Results</b>\n",
    "\n",
    "1. In the case of wage parity both members will work the same number of hours in the household. \n",
    "\n",
    "2. Typically, when the female hourly wage is lower (higher) than the male hourly wage the female will work more (fewer) hours in the household than the male. For instance, when the female relative wage is 20 percent lower (higher) the female will work about 20 percent more (fewer) hours in the household than the male. \n",
    "\n",
    "However, from the graph we see that there is an interval of relative wages around 1 where both members will work the same number of hours in the household despite the relative wage difference. This is a consequence of the discrete choice set of hours worked meaning that there are threshold values of relative wages where the optimal choice of hours worked in the household changes discretely.\n",
    "\n",
    "<b>Reflections</b>\n",
    "1. The asymmetry in the graph is an artifact of the discrete nature of the problem.\n",
    "\n",
    "2. Suppose we increased the choice set of hours worked then graph would approach a continuous line (as seen in question 3).\n",
    "\n",
    "3. Also given choice set of possible hours worked, if we solved the model for a finer grid of relative wages then the graph would reveal that there are actually more hidden kinks in the utility optimizing ratio of hours worked in the household in the interval of a +/- 20 percent relative wage difference (not shown in this Jypiter notebook).\n",
    "\n"
   ]
  },
  {
   "cell_type": "code",
   "execution_count": 3,
   "metadata": {},
   "outputs": [
    {
     "data": {
      "image/png": "[encoded data removed]",
      "text/plain": [
       "<Figure size 640x480 with 1 Axes>"
      ]
     },
     "metadata": {},
     "output_type": "display_data"
    }
   ],
   "source": [
    "#a. Setting parameters\n",
    "log_HF_HM_list = []\n",
    "log_wF_wM_list = []\n",
    "\n",
    "#b. Generating Household\n",
    "Household = HouseholdSpecializationModelClass()\n",
    "\n",
    "#c. Loops through values of wF_vec, returns (x,y)-variables\n",
    "for wF in Household.par.wF_vec:\n",
    "            Household.par.wF = wF\n",
    "            result = Household.solve_discrete()\n",
    "            log_HF_HM_list.append(np.log(result.HF/result.HM))\n",
    "            log_wF_wM_list.append(np.log(Household.par.wF/Household.par.wM))\n",
    "\n",
    "# d. create the figure\n",
    "fig = plt.figure()\n",
    "\n",
    "# e. plot\n",
    "ax = fig.add_subplot(1,1,1)\n",
    "\n",
    "ax.plot(log_wF_wM_list,log_HF_HM_list)\n",
    "\n",
    "ax.set_title('Relative home production to relative income')\n",
    "ax.set_xlabel(r'$log(\\frac{w_F}{w_M})$', fontsize=16)\n",
    "ax.set_ylabel(r'$log(\\frac{H_F}{w_M})$', fontsize=16);"
   ]
  },
  {
   "attachments": {},
   "cell_type": "markdown",
   "metadata": {},
   "source": [
    "# Question 3"
   ]
  },
  {
   "attachments": {},
   "cell_type": "markdown",
   "metadata": {},
   "source": [
    "We modify the code in the HouseholdSpecializationModelClass adding a new function called \"solve\" that solves the model for a continuous choice set.\n",
    "\n",
    "To solve the model, we use the Nelder-Mead optimization method to find the optimal choice of LM, HM, LF, HF. For each variable we set bounds that hours worked must be in the interval (0,24). In practice, we only allow hours worked greater than a small positive number (10 ** - 8) and require hours worked at most slightly less than 24 (24 - 10 ^^ - 8). In principle, the solution could allow the sum of hours worked in both the labor market and the household to exceed 24 however that is not the case in practice.\n",
    "\n",
    "To start the optimization procedure, we guess at an initial symmetric solution of 5 hours worked in both the labor market and the household for both the male and female member. The guess is set close to the optimal choice in the baseline model in the case of wage parity (see question 1).\n",
    "\n",
    "<b>Results</b>\n",
    "\n",
    "We plot the results and find a linear relationship (with a slope of -1) between log of relative hours worked in the household and log of relative wages.\n",
    "\n",
    "I.e. the model implies that the elasticity between the optimal choice of relative hours worked and the relative wage is such that when the relative wage of females increases by 1 percent then the female will work 1 percent fewer hours in the household than the male.\n",
    "\n",
    "<b>Thoughts for futher revisions</b>\n",
    "\n",
    "In the future we could consider modifying the optimization method to guarantee that total hours worked do not exceed 24. We could also discuss the best choice of optimization method.\n",
    "\n"
   ]
  },
  {
   "cell_type": "code",
   "execution_count": 4,
   "metadata": {},
   "outputs": [
    {
     "data": {
      "image/png": "[encoded data removed]",
      "text/plain": [
       "<Figure size 640x480 with 1 Axes>"
      ]
     },
     "metadata": {},
     "output_type": "display_data"
    }
   ],
   "source": [
    "#a. Setting parameters\n",
    "log_HF_HM_list = []\n",
    "log_wF_wM_list = []\n",
    "\n",
    "#b. Generating Household\n",
    "Household = HouseholdSpecializationModelClass()\n",
    "\n",
    "#c. Loops through values of wF_vec, returns (x,y)-variables\n",
    "for wF in Household.par.wF_vec:\n",
    "            Household.par.wF = wF\n",
    "            result = Household.solve()\n",
    "            log_HF_HM_list.append(np.log(result.HF/result.HM))\n",
    "            log_wF_wM_list.append(np.log(Household.par.wF/Household.par.wM))\n",
    "\n",
    "# d. create the figure\n",
    "fig = plt.figure()\n",
    "\n",
    "# e. plot\n",
    "ax = fig.add_subplot(1,1,1)\n",
    "\n",
    "ax.plot(log_wF_wM_list,log_HF_HM_list)\n",
    "\n",
    "ax.set_title('Relative home production to relative income')\n",
    "ax.set_xlabel(r'$log(\\frac{w_F}{w_M})$', fontsize=16)\n",
    "ax.set_ylabel(r'$log(\\frac{H_F}{w_M})$', fontsize=16);"
   ]
  },
  {
   "attachments": {},
   "cell_type": "markdown",
   "metadata": {},
   "source": [
    "# Question 4"
   ]
  },
  {
   "attachments": {},
   "cell_type": "markdown",
   "metadata": {},
   "source": [
    "In section 1, we have outlined our methodological approach to choosing values of $\\alpha$ and $\\beta$ such that $(\\beta_0 - \\hat{\\beta_0})^2 + (\\beta_1 - \\hat{\\beta_1})^2$ is minimized. In section 2, we have illustrated in a table the degree to which the model fits the data and interpreted our results.\n",
    "\n",
    "1. $\\bold{Method}$\n",
    "\n",
    "The methodological approach has been to make initial guesses of the values of alpha and beta that minimize the squared deviation of the beta parameters by changing alpha and sigma. \n",
    "\n",
    "The way in which this has been done is by creating an objective function that for given alphas and sigmas returns the squared deviation of the betas from realistic parameter values. This methods cosnsits of a range of steps: \n",
    "\n",
    "- Firstly, we simulate optimal household behavior for given values of alpha and sigma. This is done by looping through the range of values $w_F$ can take i.e., $w_F \\in [0.8, 0.9, 1.0, 1.1, 1.2]$ and subsequently estimating the optimal values of $L_M, L_F, H_M, H_F$ and the associated utility level. \n",
    "\n",
    "- Secondly, for a given household behavior we run the regression to estimate the beta values. \n",
    "\n",
    "- Thirdly, for the beta values i.e., $\\beta_0$ and $\\beta_1$ we calculate the squared deviation from the target beta parameters. \n",
    "\n",
    "- Lastly, this process is repeated until the squared deviation between the betas is minimized by changing alpha and sigma. \n",
    "\n",
    "2. $\\bold{Interpretation \\space of \\space results}$\n",
    "\n",
    "The values of alpha and beta that minimize the squared deviation between the betas are: $\\alpha = 0.982$ and $\\sigma = 0.1$. \n",
    "\n",
    "Alpha denotes the productivity in home production for females relative to males i.e., $\\frac{\\alpha}{1-\\alpha}$. The value of alpha is rather high in this model indicating that females are substantially more productive in home production in comparison to men. \n",
    "\n",
    "sigma, on the other hand, is the elasticity of substitution and hence a measure of the input substitution between female and male labor keeping output unchanged. The elasticity of substitution is rather low indicating that the substitutability between female and male labor in home production is rather low. This is evident as, a 0.1% decrease in female labor can be substituted with 1.0% percent male labor keeping output unchaged. \n",
    "\n",
    "In comparison to this, the table below illustrates the respective shares of $L_M, H_M, L_F$ and $H_F$ when $W_F$ increases with 0.1 unit in the range from 0.8 to 1.2. The interpreted results are:\n",
    "\n",
    "- When $W_F$ increases with 0.1 unit $L_M$ decreases in the range 6-9% \n",
    "\n",
    "- When $W_F$ increases with 0.1 unit $H_M$ decreases in the range 0.5-1.5%\n",
    "\n",
    "- When $W_F$ increases with 0.1 unit $L_F$ increases in the range 9-28%\n",
    "\n",
    "- When $W_F$ increases with 0.1 unit $H_F$ decreases in the range 2-2.5% \n",
    "\n",
    "These resultslts seem to provide some evident to support the estimated values of alpha and sigma. Increases in female labor substantially increased female labor market participation but only marginally decreases female home production participation. Furthermore, increases in female labor market wages only decreases the males participation in home production with 0-5-1.5%. This substantiates the fact that females are more produtive in home production and that the elasticity of substitution between famale and male labor is rather low. Notably, increases in female labor market wages decreases male labor market participation with about 6-9%. Hence, there appears to be a greater degree of subtitution between female and male labor market participation but a low degree in home production. "
   ]
  },
  {
   "cell_type": "code",
   "execution_count": 5,
   "metadata": {},
   "outputs": [
    {
     "name": "stderr",
     "output_type": "stream",
     "text": [
      "c:\\Users\\krist\\OneDrive - Københavns Universitet\\8. semester\\Introduction to programming and numerical analysis\\projects-2023-magnus-kristian\\inauguralproject\\ConsumerProblem.py:62: RuntimeWarning: divide by zero encountered in double_scalars\n",
      "  H=((1-par.alpha)*HM**((par.sigma-1)/par.sigma)+par.alpha*HF**((par.sigma-1)/par.sigma))**(par.sigma/(par.sigma-1))\n",
      "c:\\Users\\krist\\OneDrive - Københavns Universitet\\8. semester\\Introduction to programming and numerical analysis\\projects-2023-magnus-kristian\\inauguralproject\\ConsumerProblem.py:62: RuntimeWarning: overflow encountered in double_scalars\n",
      "  H=((1-par.alpha)*HM**((par.sigma-1)/par.sigma)+par.alpha*HF**((par.sigma-1)/par.sigma))**(par.sigma/(par.sigma-1))\n"
     ]
    },
    {
     "name": "stdout",
     "output_type": "stream",
     "text": [
      "    wF        LM        HM        LF        HF\n",
      "0  0.8  6.148468  3.600292  2.306947  5.492117\n",
      "1  0.9  5.685677  3.544115  2.963634  5.343124\n",
      "2  1.0  5.223590  3.501477  3.501491  5.223559\n",
      "3  1.1  4.773427  3.469161  3.940532  5.126260\n",
      "4  1.2  4.342068  3.444625  4.298108  5.045946\n",
      "\n",
      " alpha = 0.982, sigma = 0.100 -> beta0 = 0.400, beta1 = -0.100\n"
     ]
    }
   ],
   "source": [
    "#a. Generate Household\n",
    "Household=HouseholdSpecializationModelClass()\n",
    "\n",
    "#b. Based on initial guesses of alpha and beta, minimize the sq. dev. from beta0 and beta1, by changina alpha and sigma.\n",
    "Household.estimate()\n",
    "\n",
    "#c. Print resuls\n",
    "df2= pd.DataFrame().from_dict({'wF':Household.par.wF_vec,'LM':Household.sol.LM_vec,'HM':Household.sol.HM_vec,'LF':Household.sol.LF_vec,'HF':Household.sol.HF_vec})\n",
    "print(df2)\n",
    "print(f'\\n alpha = {Household.sol.alpha:.3f}, sigma = {Household.sol.sigma:.3f} -> beta0 = {Household.sol.beta0:.3f}, beta1 = {Household.sol.beta1:.3f}')"
   ]
  },
  {
   "attachments": {},
   "cell_type": "markdown",
   "metadata": {},
   "source": [
    "## Question 5"
   ]
  },
  {
   "attachments": {},
   "cell_type": "markdown",
   "metadata": {},
   "source": [
    "The parameter $\\alpha$ is set equal to 0.5, which is equivalent to assuming that the male and female member of the household is equally productive working at home. To be able to match the data we incorporate a disutillity parameter $\\mu$ in the model. The new utility function for the household thus becomes:\n",
    "\n",
    "$\\frac{Q^{1-p}}{1-p}-\\nu(\\frac{T_M^{1+\\frac{1}{\\epsilon}}}{1+\\frac{1}{\\epsilon}}+\\frac{T_F^{1+\\frac{1}{\\epsilon}}}{1+\\frac{1}{\\epsilon}})-\\mu\\max(\\frac{w_M}{w_F},1)H_M$\n",
    "\n",
    "The new utility function of the household is decreasing in the number of hours the male member of the household works at home. The disutility increases in the relative wage for men $\\frac{w_M}{w_F}$ for $w_M>w_F$, and is constant for $w_M \\le w_F$. The disutility is scaled with the parameter $\\mu$.\n",
    "\n",
    "The interpretation of the extension is that traditional cultural gender norms could lead men to have a higher disutility of doing work at home. Futhermore, this norm could be stronger in couples where the male wage is higher than the female wage.\n",
    "\n",
    "We update the code that is used in Question 4, such that we now minimize the squared deviation from the target beta parameters wrt. $\\mu$ and $\\sigma$, holding $\\alpha$ fixed at $0.5$.\n",
    "\n",
    "As seen below this matches the data for $\\mu=0.377$, $\\sigma=0.106$ and $\\alpha=0.5$."
   ]
  },
  {
   "cell_type": "code",
   "execution_count": 6,
   "metadata": {},
   "outputs": [
    {
     "name": "stderr",
     "output_type": "stream",
     "text": [
      "c:\\Users\\krist\\OneDrive - Københavns Universitet\\8. semester\\Introduction to programming and numerical analysis\\projects-2023-magnus-kristian\\inauguralproject\\ConsumerProblem.py:62: RuntimeWarning: divide by zero encountered in double_scalars\n",
      "  H=((1-par.alpha)*HM**((par.sigma-1)/par.sigma)+par.alpha*HF**((par.sigma-1)/par.sigma))**(par.sigma/(par.sigma-1))\n",
      "c:\\Users\\krist\\OneDrive - Københavns Universitet\\8. semester\\Introduction to programming and numerical analysis\\projects-2023-magnus-kristian\\inauguralproject\\ConsumerProblem.py:62: RuntimeWarning: overflow encountered in double_scalars\n",
      "  H=((1-par.alpha)*HM**((par.sigma-1)/par.sigma)+par.alpha*HF**((par.sigma-1)/par.sigma))**(par.sigma/(par.sigma-1))\n"
     ]
    },
    {
     "name": "stdout",
     "output_type": "stream",
     "text": [
      "    wF         LM        HM        LF        HF\n",
      "0  0.8  10.595431  0.379815  8.198376  0.581796\n",
      "1  0.9   9.831681  0.406139  8.602781  0.611293\n",
      "2  1.0   9.127658  0.430460  8.919938  0.638238\n",
      "3  1.1   8.603296  0.424407  9.303809  0.626624\n",
      "4  1.2   8.111408  0.418519  9.620024  0.615848\n",
      "\n",
      " mu = 0.377, sigma = 0.106, alpha = 0.500 -> beta0 = 0.400, beta1 = -0.100\n"
     ]
    }
   ],
   "source": [
    "#a. Generate Household\n",
    "Household=HouseholdSpecializationModelClass()\n",
    "\n",
    "#b. Based on initial guesses of mu and beta, minimize the sq. dev. from beta0 and beta1, by changina mu and sigma.\n",
    "Household.estimate_5()\n",
    "\n",
    "#c. Print resuls\n",
    "df2= pd.DataFrame().from_dict({'wF':Household.par.wF_vec,'LM':Household.sol.LM_vec,'HM':Household.sol.HM_vec,'LF':Household.sol.LF_vec,'HF':Household.sol.HF_vec})\n",
    "print(df2)\n",
    "print(f'\\n mu = {Household.par.mu:.3f}, sigma = {Household.sol.sigma:.3f}, alpha = {Household.par.alpha:.3f} -> beta0 = {Household.sol.beta0:.3f}, beta1 = {Household.sol.beta1:.3f}')"
   ]
  }
 ],
 "metadata": {
  "kernelspec": {
   "display_name": "base",
   "language": "python",
   "name": "python3"
  },
  "language_info": {
   "codemirror_mode": {
    "name": "ipython",
    "version": 3
   },
   "file_extension": ".py",
   "mimetype": "text/x-python",
   "name": "python",
   "nbconvert_exporter": "python",
   "pygments_lexer": "ipython3",
   "version": "3.9.16"
  },
  "toc-autonumbering": true,
  "vscode": {
   "interpreter": {
    "hash": "47ef90cdf3004d3f859f1fb202523c65c07ba7c22eefd261b181f4744e2d0403"
   }
  }
 },
 "nbformat": 4,
 "nbformat_minor": 4
}
