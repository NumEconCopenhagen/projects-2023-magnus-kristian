{
 "cells": [
  {
   "attachments": {},
   "cell_type": "markdown",
   "metadata": {},
   "source": [
    "**Table of contents**<a id='toc0_'></a>    \n",
    "- 1. [Problem 1: Optimal taxation with government consumption](#toc1_)    \n",
    "- 2. [Problem 2: Labor adjustment costs](#toc2_)    \n",
    "- 3. [Problem 3: Global optimizer with refined multi-start](#toc3_)    \n",
    "\n",
    "<!-- vscode-jupyter-toc-config\n",
    "\tnumbering=true\n",
    "\tanchor=true\n",
    "\tflat=false\n",
    "\tminLevel=2\n",
    "\tmaxLevel=6\n",
    "\t/vscode-jupyter-toc-config -->\n",
    "<!-- THIS CELL WILL BE REPLACED ON TOC UPDATE. DO NOT WRITE YOUR TEXT IN THIS CELL -->"
   ]
  },
  {
   "cell_type": "code",
   "execution_count": null,
   "metadata": {},
   "outputs": [],
   "source": [
    "# write your code here"
   ]
  },
  {
   "attachments": {},
   "cell_type": "markdown",
   "metadata": {},
   "source": [
    "## 1. <a id='toc1_'></a>[Problem 1: Optimal taxation with government consumption](#toc0_)"
   ]
  },
  {
   "attachments": {},
   "cell_type": "markdown",
   "metadata": {},
   "source": [
    "\n",
    "Consider a worker choosing hours of labor, $L\\in[0,24]$, to maximize utility: \n",
    "\n",
    "$$\n",
    "\\begin{align*}\n",
    "V(w,\\tau,G)&=\\max_{L\\in[0,24]}\\ln\\left(C^{\\alpha}G^{1-\\alpha}\\right)-\\nu\\frac{L^{2}}{2}\\\\&\\text{s.t.}\\\\&C=\\kappa+(1-\\tau)wL\n",
    "\\end{align*}\n",
    "$$\n",
    "\n",
    "where \n",
    "\n",
    "* $C$ is *private* consumption with weight $\\alpha\\in(0,1)$.\n",
    "* $\\kappa > 0$ is the *free private* consumption component.\n",
    "* $C = (1-\\tau)wL$ is the *costly private* consumption component.\n",
    "* $w > 0 $ is the real wage.\n",
    "* $\\tau \\in (0,1)$ is the labor-income tax rate.\n",
    "* $G > 0 $ is *government* consumption with weight $1-\\alpha$.\n",
    "* $\\nu > 0$ is the disutility of labor scaling factor"
   ]
  },
  {
   "attachments": {},
   "cell_type": "markdown",
   "metadata": {},
   "source": [
    "\n",
    "The baseline parameters are:\n",
    "\n",
    "$$\n",
    "\\begin{align*}\n",
    "\\alpha &= 0.5\\\\\n",
    "\\kappa &= 1.0\\\\\n",
    "\\nu &= \\frac{1}{2\\cdot16^2} \\\\\n",
    "w &= 1.0 \\\\ \n",
    "\\tau &= 0.30 \\\\\n",
    "\\end{align*}\n",
    "$$"
   ]
  },
  {
   "attachments": {},
   "cell_type": "markdown",
   "metadata": {},
   "source": [
    "**Question 1:** Verify that the optimal labor supply choice is $L^{\\star}(\\tilde{w}) =\\frac{-\\kappa+\\sqrt{\\kappa^{2}+4\\frac{\\alpha}{\\nu}\\tilde{w}^2}}{2\\tilde{w}}$, where $\\tilde{w} = (1-\\tau)w$, for $G\\in\\left\\{1.0 , 2.0\\right\\}$."
   ]
  },
  {
   "cell_type": "code",
   "execution_count": null,
   "metadata": {},
   "outputs": [],
   "source": [
    "# solution using sympy"
   ]
  },
  {
   "attachments": {},
   "cell_type": "markdown",
   "metadata": {},
   "source": [
    "**Question 2:** Illustrate how $L^{\\star}(\\tilde{w})$ depends on $w$."
   ]
  },
  {
   "cell_type": "code",
   "execution_count": null,
   "metadata": {},
   "outputs": [],
   "source": [
    "# lambidfy function and insert a vector of w."
   ]
  },
  {
   "attachments": {},
   "cell_type": "markdown",
   "metadata": {},
   "source": [
    "\n",
    "We now consider a government, who chooses $\\tau$ and spend all of the taxes on government consumption so:\n",
    "\n",
    "$$\n",
    "G = \\tau w L^{\\star}((1-\\tau)w)\n",
    "$$\n",
    "\n",
    "**Question 3:** Plot the implied $L$, $G$ and worker utility for a grid of $\\tau$-values.\n"
   ]
  },
  {
   "cell_type": "code",
   "execution_count": null,
   "metadata": {},
   "outputs": [],
   "source": [
    "# Make an equation for government consumption"
   ]
  },
  {
   "attachments": {},
   "cell_type": "markdown",
   "metadata": {},
   "source": [
    "**Question 4:** Find the socially optimal tax rate $\\tau^{\\star}\\in(0,1)$ maximizing worker utility. Illustrate your result."
   ]
  },
  {
   "cell_type": "code",
   "execution_count": null,
   "metadata": {},
   "outputs": [],
   "source": [
    "# Find solution and plot how utility varies depending on tau"
   ]
  },
  {
   "attachments": {},
   "cell_type": "markdown",
   "metadata": {},
   "source": [
    "A more general preference formulation for the worker is:\n",
    "\n",
    "$$\n",
    "\\begin{align*}\n",
    "\\mathcal{V}(w,\\tau,G)&=\\max_{L\\in[0,24]}\\frac{\\left[ \\left( \\alpha C^{\\frac{\\sigma-1}{\\sigma}}+(1-\\alpha) G^{\\frac{\\sigma-1}{\\sigma}} \\right)^{\\frac{\\sigma}{1-\\sigma} }\\right]^{1-\\rho}-1}{1-\\rho}- \\nu\\frac{L^{1+\\varepsilon}}{1+\\varepsilon},\\,\\,\\,\\varepsilon,\\rho,\\sigma>0,\\,\\,\\,\\rho,\\sigma\\neq1\\\\&\\text{s.t.}\\\\&C=\\kappa+(1-\\tau)wL\n",
    "\\end{align*}    \n",
    "$$\n",
    "\n",
    "Optimal labor supply is now $L^{\\star}(\\tilde{w},G)$."
   ]
  },
  {
   "attachments": {},
   "cell_type": "markdown",
   "metadata": {},
   "source": [
    "Questions 5 and 6 must be answered with the general formulation, and for 2 different set of parameters:\n",
    "\n",
    "- Set 1:  $\\sigma = 1.001$, $\\rho = 1.001$ and $\\varepsilon = 1.0$.\n",
    "- Set 2:  $\\sigma = 1.5$, $\\rho = 1.5$ and $\\varepsilon = 1.0 $."
   ]
  },
  {
   "attachments": {},
   "cell_type": "markdown",
   "metadata": {},
   "source": [
    "**Question 5:** Find the $G$ that solves $G = \\tau w L^{\\star}((1-\\tau)w,G)$ using the $\\tau$ found in question 4.\n",
    "\n",
    "*Hint: First write code that solves the worker problem for given values of $G$ and $\\tau$. Then find the correct G based on this.*"
   ]
  },
  {
   "cell_type": "code",
   "execution_count": null,
   "metadata": {},
   "outputs": [],
   "source": [
    "# write your code here"
   ]
  },
  {
   "attachments": {},
   "cell_type": "markdown",
   "metadata": {},
   "source": [
    "**Question 6:** Find the socially optimal tax rate, $\\tau^{\\star}$, maximizing worker utility, while keeping $G = \\tau w L^{\\star}((1-\\tau)w,G)$."
   ]
  },
  {
   "cell_type": "code",
   "execution_count": null,
   "metadata": {},
   "outputs": [],
   "source": [
    "# write your code here  "
   ]
  },
  {
   "attachments": {},
   "cell_type": "markdown",
   "metadata": {},
   "source": [
    "## 2. <a id='toc2_'></a>[Problem 2: Labor adjustment costs](#toc0_)"
   ]
  },
  {
   "attachments": {},
   "cell_type": "markdown",
   "metadata": {},
   "source": [
    "You own a hair salon. You employ hairdressers, $\\ell_t$, to produce haircuts, $y_t = \\ell_t$.\n",
    "\n",
    "The wage for each haridresser is $w$.\n",
    "\n",
    "The demand for haircuts implies that the price of haircuts you can charge is $p_t = \\kappa_t y_t^{-\\eta}$, where $\\kappa_t$ is a demand-shock and $\\eta \\in (0,1)$ measures the elasticity of demand.\n",
    "\n",
    "Profits are:\n",
    "\n",
    "$$\n",
    "\\Pi_t = p_t y_t - w \\ell_t = \\kappa_t \\ell_t^{1-\\eta} - w \\ell_t\n",
    "$$"
   ]
  },
  {
   "attachments": {},
   "cell_type": "markdown",
   "metadata": {},
   "source": [
    "Baseline parameters are:\n",
    "- $\\eta = 0.5$\n",
    "- $w = 1.0$"
   ]
  },
  {
   "attachments": {},
   "cell_type": "markdown",
   "metadata": {},
   "source": [
    "**Question 1:** Verify numerically that $\\ell_{t}=\\left(\\frac{(1-\\eta)\\kappa_{t}}{w}\\right)^{\\frac{1}{\\eta}}$ maximises profits, for $\\kappa\\in\\left\\{1.0 , 2.0\\right\\}$."
   ]
  },
  {
   "cell_type": "code",
   "execution_count": 148,
   "metadata": {},
   "outputs": [
    {
     "name": "stdout",
     "output_type": "stream",
     "text": [
      "Numerical solution is [0.25] for kappa=1\n",
      "Analytical solution is [0.25] for kappa=1\n",
      "Profit is 0.25 for kappa=1\n",
      "Numerical solution is [1.] for kappa=2\n",
      "Analytical solution is [1.0] for kappa=2\n",
      "Profit is 1.0 for kappa=2\n"
     ]
    }
   ],
   "source": [
    "from scipy import optimize\n",
    "from scipy import interpolate\n",
    "import sympy as sm\n",
    "\n",
    "import numpy as np\n",
    "from types import SimpleNamespace\n",
    "\n",
    "from copy import deepcopy\n",
    "import time\n",
    "\n",
    "# Note: Numerically. We have to use a grid of l_t for kappa equal to 1 or 2 and see that profit is maximized for that l_t.\n",
    "# solve using solver and graphical solution.\n",
    "\n",
    "#Parameters\n",
    "eta=0.5\n",
    "w=1\n",
    "kappa=1\n",
    "\n",
    "kappa_vec = [1,2]\n",
    "\n",
    "#Profit function\n",
    "def calc_profit(l,kappa):\n",
    "    p =  kappa*l**(-eta)\n",
    "    profit =  p*l-w*l\n",
    "    return profit \n",
    "\n",
    "for kappa in kappa_vec:\n",
    "    l_guess=0.5\n",
    "    obj = lambda l: -calc_profit(l[0],kappa)\n",
    "    res = optimize.minimize(obj,l_guess,method='Nelder-Mead') \n",
    "    opt_l = res.x\n",
    "    print(f'Numerical solution is {opt_l} for kappa={kappa}')\n",
    "    l=(((1-eta)*kappa)/w)**(1/eta)\n",
    "    print(f'Analytical solution is {[l]} for kappa={kappa}')\n",
    "    print(f'Profit is {calc_profit(l,kappa)} for kappa={kappa}')"
   ]
  },
  {
   "attachments": {},
   "cell_type": "markdown",
   "metadata": {},
   "source": [
    "We now consider a *dynamic* version of the model.\n",
    "\n",
    "* The demand-shock is a so-called AR(1) in logs, \n",
    "\n",
    "$$\n",
    "\\log \\kappa_{t} = \\rho \\log \\kappa_{t-1} + \\epsilon_{t},\\,\\,\\, \\epsilon_{t+1} \\sim \\mathcal{N}(-0.5\\sigma_{\\epsilon}^2,\\sigma_{\\epsilon})\n",
    "$$\n",
    "\n",
    "* Any hiring or firing implies a fixed adjustment cost, $\\iota > 0 $.\n",
    "* Future profits are discounted with a monthly factor of $R \\in (0,1)$.\n",
    "\n",
    "The initial demand shock is $\\kappa_{-1} = 1$ and the planning horizon is 10 years, i.e. 120 months so $t \\in \\{0,1,2,\\dots,119\\}$. Initially you don't have any employees, $\\ell_{-1}=0$"
   ]
  },
  {
   "attachments": {},
   "cell_type": "markdown",
   "metadata": {},
   "source": [
    "\n",
    "The *ex post* value of the salon is *conditional* on the shock series is:\n",
    "\n",
    "$$\n",
    "h(\\epsilon_0,\\epsilon_1,\\dots,\\epsilon_{119}) = \\left[\\sum_{t=0}^{119}R^{-t}\\left[\\kappa_{t}\\ell_{t}^{1-\\eta}-w\\ell_{t}-\\boldsymbol{1}_{\\ell_{t}\\neq\\ell_{t-1}}\\iota\\right]\\right]\n",
    "$$\n",
    "\n",
    "The *ex ante* expected value of the salon can be approximated by\n",
    "\n",
    "$$\n",
    "H = \\mathbb{E}[h(\\epsilon_0,\\epsilon_1,\\dots,\\epsilon_{119})] \\approx \\frac{1}{K}\\sum_{k=0}^{K} h(\\epsilon_0^k,\\epsilon_1^k,\\dots,\\epsilon_{119}^k)\n",
    "$$\n",
    "\n",
    "where each $k\\in\\{0,1,\\dots,K-1\\}$ is a random shock series. Maximizing profitability means maximizing $H$.\n"
   ]
  },
  {
   "attachments": {},
   "cell_type": "markdown",
   "metadata": {},
   "source": [
    "Baseline parameters are: \n",
    "\n",
    "- $\\rho = 0.90$\n",
    "- $\\iota = 0.01$\n",
    "- $\\sigma_{\\epsilon} = 0.10$\n",
    "- $R = \\left(1+0.01\\right)^{1/12}$"
   ]
  },
  {
   "cell_type": "code",
   "execution_count": 172,
   "metadata": {},
   "outputs": [],
   "source": [
    "# PLug delta ind og find samlet ex post nytte\n",
    "def calc_opt_l(eta,kappa,w):\n",
    "   return (((1-eta)*kappa)/w)**(1/eta)\n",
    "\n",
    "def calc_profit_adj(l,kappa,iota):\n",
    "    profit = np.where(l!=0, kappa*l**(-eta)*l -w*l-iota, 0)\n",
    "    return profit \n",
    "\n",
    "def simulate(K=10000, Delta=0.05, follow_adjustment_rule=False):\n",
    "\n",
    "    \"\"\" Takes as input the number of k values, the adjustment cost and whether to follow the adjustment rule or not.\n",
    "    Returns the simulated values of kappa, labor supply, profit and discounted total value of profits. \"\"\"\n",
    "\n",
    "    np.random.seed(2000)\n",
    "    #Simulate kappa values from starting point with K steps, do that 120 times.\n",
    "    #a. allocate\n",
    "    par = SimpleNamespace()\n",
    "    par.K = K\n",
    "    par.T = 120\n",
    "\n",
    "    par.eta=0.5\n",
    "    par.w=1\n",
    "    par.rho=0.9\n",
    "    par.sigma=0.1\n",
    "    par.iota = 0.1\n",
    "    par.R=(1+0.01)**(1/12)\n",
    "    par.R_new=(1+0.10)\n",
    "    par.Delta=Delta\n",
    "    par.Delta_vec=np.ones(par.K)*par.Delta\n",
    "\n",
    "    sim = SimpleNamespace()\n",
    "    sim.kappa = np.zeros((par.T,par.K))\n",
    "    sim.kappa_ini = np.ones(par.K)\n",
    "\n",
    "    sim.l = np.zeros((par.T,par.K))\n",
    "    sim.l_ini=np.zeros(par.K)\n",
    "\n",
    "    sim.h = np.zeros((1,par.K))\n",
    "    sim.profit=np.zeros((par.T,par.K))\n",
    "\n",
    "    for t in range(par.T):\n",
    "        #i. Lagged kappa values\n",
    "        if t == 0:\n",
    "            sim.kappa[t,:] = np.exp(par.rho* np.log10(sim.kappa_ini) + np.random.normal(-0.5*par.sigma*par.sigma,par.sigma,size=par.K))  \n",
    "        else:\n",
    "            sim.kappa[t,:] = np.exp(par.rho* np.log10(sim.kappa[t-1,:]) + np.random.normal(-0.5*par.sigma*par.sigma,par.sigma,size=par.K))\n",
    "\n",
    "        # ii. labor supply\n",
    "        sim.l[t,:] = calc_opt_l(par.eta,sim.kappa[t,:],par.w) \n",
    "        # iii profit\n",
    "        sim.profit[t,:] = calc_profit_adj(sim.l[t,:],sim.kappa[t,:],par.iota) #adjustment cost\n",
    "\n",
    "        if follow_adjustment_rule == True:\n",
    "            if t == 0:\n",
    "                sim.l[t,:]=np.where(np.abs(sim.l[t,:]-sim.l_ini) < par.Delta, sim.l_ini, sim.l[t,:])\n",
    "                sim.profit[t,:] = np.where(np.abs(sim.l[t,:]-sim.l_ini) < par.Delta, 0, sim.profit[t,:])\n",
    "            else: \n",
    "                sim.l[t,:]=np.where(np.abs(sim.l[t,:]-sim.l[t-1,:]) < par.Delta, sim.l[t-1,:], sim.l[t,:])\n",
    "                sim.profit[t,:] = np.where(np.abs(sim.l[t,:]-sim.l[t-1,:]) < par.Delta, calc_profit_adj(sim.l[t,:],sim.kappa[t,:],0), sim.profit[t,:])\n",
    "                \n",
    "        # iii. profit\n",
    "        #sim.profit[t,:] = calc_profit_adj(sim.l[t,:],sim.kappa[t,:],par.iota) #adjustment cost\n",
    "        # iv. total value of profits\n",
    "        sim.h += par.R**(-t) * (sim.profit[t,:])\n",
    "    return np.mean(sim.h)"
   ]
  },
  {
   "attachments": {},
   "cell_type": "markdown",
   "metadata": {},
   "source": [
    "**Question 2:** Calculate $H$ if the policy  $\\ell_{t}=\\left(\\frac{(1-\\eta)\\kappa_{t}}{w}\\right)^{\\frac{1}{\\eta}}$ from question 1 is followed. Choose $K$ so the approximation is good enough to not affect your results substantially."
   ]
  },
  {
   "cell_type": "code",
   "execution_count": 171,
   "metadata": {},
   "outputs": [
    {
     "name": "stdout",
     "output_type": "stream",
     "text": [
      "Ex-post value of profit for each kappa series is 18.924374307437855 for K=1\n",
      "Ex-post value of profit for each kappa series is 17.81442080651005 for K=10\n",
      "Ex-post value of profit for each kappa series is 17.30808221809202 for K=100\n",
      "Ex-post value of profit for each kappa series is 17.3789087256903 for K=1000\n",
      "Ex-post value of profit for each kappa series is 17.347838953630266 for K=10000\n",
      "Ex-post value of profit for each kappa series is 17.347564758356512 for K=100000\n"
     ]
    }
   ],
   "source": [
    "K_vec = [1, 10, 100, 1000, 10000, 100000]\n",
    "for i in K_vec:\n",
    "    res=simulate(i,0.05,False)\n",
    "    print(f'Ex-post value of profit for each kappa series is {res} for K={i}')"
   ]
  },
  {
   "attachments": {},
   "cell_type": "markdown",
   "metadata": {},
   "source": [
    "Next, we consider policies on the form:\n",
    "\n",
    "$$\n",
    "\n",
    "\\ell_{t}=\\begin{cases}\n",
    "\\ell_t^{\\ast}  & \\text{if }\\left|\\ell_{t-1}-\\ell_t^{\\ast} \\right|>\\Delta\\\\\n",
    "\\ell_{t-1} & \\text{else }\n",
    "\\end{cases}\n",
    "\\\\\n",
    "\\text{where}\\,\\,\\ell_t^{\\ast} = \\left(\\frac{(1-\\eta)\\kappa_{t}}{w}\\right)^{\\frac{1}{\\eta}} \\\\\n",
    "\n",
    "$$\n",
    "With $\\Delta \\geq 0$ and $\\Delta = 0$ being the previous policy.\n"
   ]
  },
  {
   "attachments": {},
   "cell_type": "markdown",
   "metadata": {},
   "source": [
    "\n",
    "**Question 3:** Calculate $H$ if the policy above was followed with $\\Delta = 0.05$. Does it improve profitability?"
   ]
  },
  {
   "cell_type": "code",
   "execution_count": 173,
   "metadata": {},
   "outputs": [
    {
     "name": "stdout",
     "output_type": "stream",
     "text": [
      "Discounted value of profits without adjustment rule 17.347838953630266 for K=10000\n",
      "Discounted value of profits with adjustment rule 24.00098163073346 for K=10000\n"
     ]
    }
   ],
   "source": [
    "res=simulate(10000,0.05,False)\n",
    "print(f'Discounted value of profits without adjustment rule {res} for K={10000}')\n",
    "res=simulate(10000,0.05,True)\n",
    "print(f'Discounted value of profits with adjustment rule {res} for K={10000}')"
   ]
  },
  {
   "attachments": {},
   "cell_type": "markdown",
   "metadata": {},
   "source": [
    "**Question 4:** Find the optimal $\\Delta$ maximizing $H$. Illustrate your result."
   ]
  },
  {
   "cell_type": "code",
   "execution_count": 176,
   "metadata": {},
   "outputs": [
    {
     "name": "stderr",
     "output_type": "stream",
     "text": [
      "C:\\Users\\krist\\AppData\\Local\\Temp\\ipykernel_6556\\753590557.py:6: RuntimeWarning: divide by zero encountered in power\n",
      "  profit = np.where(l!=0, kappa*l**(-eta)*l -w*l-iota, 0)\n",
      "C:\\Users\\krist\\AppData\\Local\\Temp\\ipykernel_6556\\753590557.py:6: RuntimeWarning: invalid value encountered in multiply\n",
      "  profit = np.where(l!=0, kappa*l**(-eta)*l -w*l-iota, 0)\n"
     ]
    },
    {
     "name": "stdout",
     "output_type": "stream",
     "text": [
      "0.2085156250000004\n",
      "28.04355237556108\n"
     ]
    }
   ],
   "source": [
    "obj = lambda Delta: -simulate(10000, Delta, True)\n",
    "bounds=[(0,2)]\n",
    "opt = optimize.minimize(obj, 0.1, method='Nelder-Mead', bounds=bounds)\n",
    "opt_Delta = opt.x[0]\n",
    "print(opt_Delta)\n",
    "print(simulate(10000, opt_Delta, True))"
   ]
  },
  {
   "cell_type": "code",
   "execution_count": 158,
   "metadata": {},
   "outputs": [
    {
     "name": "stderr",
     "output_type": "stream",
     "text": [
      "C:\\Users\\krist\\AppData\\Local\\Temp\\ipykernel_6556\\2296250577.py:36: RuntimeWarning: divide by zero encountered in double_scalars\n",
      "  profit = np.where(l!=0, kappa*l**(-eta)*l -w*l-iota, 0)\n",
      "C:\\Users\\krist\\AppData\\Local\\Temp\\ipykernel_6556\\2296250577.py:36: RuntimeWarning: invalid value encountered in double_scalars\n",
      "  profit = np.where(l!=0, kappa*l**(-eta)*l -w*l-iota, 0)\n"
     ]
    },
    {
     "name": "stdout",
     "output_type": "stream",
     "text": [
      "period 7 solved in   0.2 secs\n",
      "period 6 solved in  14.5 secs\n",
      "period 5 solved in  13.3 secs\n",
      "period 4 solved in  13.3 secs\n",
      "period 3 solved in  15.0 secs\n",
      "period 2 solved in  13.2 secs\n",
      "period 1 solved in  13.2 secs\n",
      "period 0 solved in  13.3 secs\n",
      "model solved in  95.9 secs\n"
     ]
    }
   ],
   "source": [
    "K=10000\n",
    "Delta=0.05\n",
    "\n",
    "np.random.seed(2000)\n",
    "#Simulate kappa values from starting point with K steps, do that 120 times.\n",
    "#a. allocate\n",
    "par = SimpleNamespace()\n",
    "par.K = K\n",
    "par.T = 8\n",
    "\n",
    "par.eta=0.5\n",
    "par.w=1\n",
    "par.rho=0.9\n",
    "par.sigma=0.1\n",
    "par.iota = 0.1\n",
    "par.R=(1+0.01)**(1/12)\n",
    "par.R_new=(1+0.10)\n",
    "\n",
    "par.m_min = 0\n",
    "par.m_max = 2\n",
    "par.Nm = 100\n",
    "eta=0.5\n",
    "w=1\n",
    "\n",
    "sim = SimpleNamespace()\n",
    "sim.kappa = np.zeros((par.T,par.K))\n",
    "sim.kappa_ini = np.ones(par.K)\n",
    "\n",
    "sim.l = np.zeros((par.T,par.K))\n",
    "sim.l_ini=np.zeros(par.K)\n",
    "\n",
    "sim.h = np.zeros((1,par.K))\n",
    "sim.profit=np.zeros((par.T,par.K))\n",
    "\n",
    "def calc_profit_adj(l,kappa,iota):\n",
    "    profit = np.where(l!=0, kappa*l**(-eta)*l -w*l-iota, 0)\n",
    "    return profit \n",
    "\n",
    "def calc_opt_l(eta,kappa,w):\n",
    "   return (((1-eta)*kappa)/w)**(1/eta)\n",
    "\n",
    "def solve_last_period(par):\n",
    "\n",
    "    # a. allocate\n",
    "    k_grid = np.linspace(par.m_min,par.m_max,par.Nm)\n",
    "    v_func = np.empty(par.Nm)\n",
    "    l_func = np.empty(par.Nm)\n",
    "\n",
    "    # b. solve for each value of the grid, meaning that for each value of cash in hand, we find the optimal consumption and value of the value function.\n",
    "    #Normally that would just be done once for each problem, but we want to use it to create an interpolater.\n",
    "    for i,k in enumerate(k_grid):\n",
    "\n",
    "        # i. objective\n",
    "        obj = lambda l: -calc_profit_adj(l[0],k,par.iota)\n",
    "\n",
    "        # ii. optimizer\n",
    "        x0 = 0.2 # initial value\n",
    "        result = optimize.minimize(obj,[x0],method='L-BFGS-B',bounds=[(par.m_min,par.m_max)])\n",
    "\n",
    "        # iii. save\n",
    "        v_func[i] = -result.fun\n",
    "        l_func[i] = result.x\n",
    "        \n",
    "    return k_grid,v_func,l_func\n",
    "\n",
    "k2_grid,v2_func,l2_func = solve_last_period(par)\n",
    "\n",
    "#IMPORTANT: We construct an interpolater called v2_func_interp using the interpolater function from scipy.interpolate.\n",
    "#The interpolater takes as arguments the grid and the values of the function on the grid which we found before.\n",
    "v2_func_interp = interpolate.RegularGridInterpolator([k2_grid],v2_func,\n",
    "    bounds_error=False,fill_value=None)\n",
    "\n",
    "#NB: kappa_grid is a grid of kappas that represent the distribution of expected values\n",
    "kappa_grid = np.linspace(par.m_min,par.m_max,par.Nm)\n",
    "\n",
    "#Note that the v_plus_interp is not a specific interpolater, but a placeholder for the one we create later called v2_func_interp\n",
    "def v(l,k,iota,v_plus_interp):\n",
    "    \n",
    "    # a. expected value\n",
    "    v_plus = 0.0\n",
    "    for kappa in kappa_grid:\n",
    "            \n",
    "        # i. next period value function evaluated using interpolation, depends on the cash on hand, which depends on income shock\n",
    "        v_plus_now = v_plus_interp([kappa])[0]\n",
    "        \n",
    "        # ii. the next period value is added to the expected value\n",
    "        v_plus += v_plus_now\n",
    "    #iii. average value is found\n",
    "    v_plus/=par.Nm #average value\n",
    "    # b. total value in current period is found\n",
    "    return calc_profit_adj(l,kappa,par.iota) + par.R*v_plus\n",
    "\n",
    "\n",
    "#v_plus_interp is still not a specific interpolatar, but a placeholder for the one we create later called v_plus_func_interp\n",
    "#Note that the interpolater is callable, meaning that we can call it with a value of m and it will return the interpolated function value at that point.\n",
    "def solve_single_period(par,v_plus_interp):\n",
    "\n",
    "    # a. allocate\n",
    "    k_grid = np.linspace(par.m_min,par.m_max,par.Nm)\n",
    "    v_func = np.empty(par.Nm)\n",
    "    l_func = np.empty(par.Nm)\n",
    "    \n",
    "    # b. solve\n",
    "    for i,k in enumerate(k_grid):\n",
    "        \n",
    "        # i. objective\n",
    "        obj = lambda l: -v(l[0],k,par.iota,v_plus_interp)\n",
    "        \n",
    "        # ii. solve\n",
    "        x0 = k/2 # initial guess\n",
    "        result = optimize.minimize(obj,[x0],method='L-BFGS-B',bounds=[(par.m_min,par.m_max)])\n",
    "        \n",
    "        # iv. save\n",
    "        v_func[i] = -result.fun\n",
    "        l_func[i] = result.x[0]\n",
    "     \n",
    "    return k_grid,v_func,l_func\n",
    "\n",
    "def solve_many_periods(par):\n",
    "    \n",
    "    t0 = time.time()\n",
    "    \n",
    "    # a. allocate\n",
    "    sol = SimpleNamespace()\n",
    "    sol.k = np.zeros((par.T,par.Nm))\n",
    "    sol.v = np.zeros((par.T,par.Nm))\n",
    "    sol.l = np.zeros((par.T,par.Nm))\n",
    "    \n",
    "    # b. iterate\n",
    "    for t in reversed(range(par.T)):\n",
    "        \n",
    "        t0_ = time.time()\n",
    "        \n",
    "        if t == par.T-1:\n",
    "            \n",
    "            sol.k[t,:],sol.v[t,:],sol.l[t,:] = solve_last_period(par)\n",
    "            \n",
    "        else:\n",
    "    \n",
    "            # i. construct interpolator\n",
    "            #Note: The interpolater is updated in each period, based on the optimal cash on hand and value function in the next period (the one which was just solved).\n",
    "            v_plus_interp = interpolate.RegularGridInterpolator([sol.k[t+1,:]],sol.v[t+1,:],\n",
    "                bounds_error=False,fill_value=None)\n",
    "    \n",
    "            # ii. solve period\n",
    "            sol.k[t,:],sol.v[t,:],sol.l[t,:] = solve_single_period(par,v_plus_interp)\n",
    "        \n",
    "        print(f'period {t} solved in {time.time()-t0_:5.1f} secs')\n",
    "        \n",
    "    print(f'model solved in {time.time()-t0:5.1f} secs')\n",
    "    \n",
    "    return sol\n",
    "\n",
    "par.T = 8\n",
    "sol = solve_many_periods(par)\n"
   ]
  },
  {
   "cell_type": "code",
   "execution_count": 170,
   "metadata": {},
   "outputs": [],
   "source": [
    "l_interps = []\n",
    "for t in range(par.T):\n",
    "    #This interpolater is a consumption interpolator, which builds on the solutions from above\n",
    "    l_interp = interpolate.RegularGridInterpolator([sol.k[t,:]],sol.l[t,:],\n",
    "        bounds_error=False,fill_value=None)\n",
    "    l_interps.append(l_interp)"
   ]
  },
  {
   "cell_type": "code",
   "execution_count": 169,
   "metadata": {},
   "outputs": [
    {
     "name": "stdout",
     "output_type": "stream",
     "text": [
      "[1.00000036 1.00000035 1.00000036 1.00000045 1.00000045 1.00000046\n",
      " 1.00000045 0.        ]\n"
     ]
    }
   ],
   "source": [
    "print(sol.l[:,10])"
   ]
  },
  {
   "cell_type": "code",
   "execution_count": 143,
   "metadata": {},
   "outputs": [
    {
     "name": "stdout",
     "output_type": "stream",
     "text": [
      "[0.0225]\n",
      "0.02249999999999998\n"
     ]
    }
   ],
   "source": [
    "#test\n",
    "var=0.7\n",
    "print(v2_func_interp([var]))\n",
    "print(calc_profit_adj(calc_opt_l(par.eta,var,par.w),var,par.iota))"
   ]
  },
  {
   "attachments": {},
   "cell_type": "markdown",
   "metadata": {},
   "source": [
    "\n",
    "**Question 5:** Suggest an alternative policy you believe might improve profitability. Implement and test your policy.\n",
    "\n"
   ]
  },
  {
   "attachments": {},
   "cell_type": "markdown",
   "metadata": {},
   "source": [
    "## 3. <a id='toc3_'></a>[Problem 3: Global optimizer with refined multi-start](#toc0_)"
   ]
  },
  {
   "attachments": {},
   "cell_type": "markdown",
   "metadata": {},
   "source": [
    "We consider the Griewank function:\n",
    "\n",
    "$$ f(\\boldsymbol{x}) = \\sum^n_{i=1} \\frac{x^2_i}{4000}-\\prod^n_{i=1}\\cos\\left(\\frac{x_i}{\\sqrt{i}}\\right)+1$$\n",
    "\n",
    "The **global minimum** of this function is $f(0,0) = 0$ (remember: $\\cos(0)=1$).<br>\n",
    "But the function also have a lot of **local minima**."
   ]
  },
  {
   "cell_type": "code",
   "execution_count": null,
   "metadata": {},
   "outputs": [],
   "source": [
    "def griewank(x):\n",
    "    return griewank_(x[0],x[1])\n",
    "    \n",
    "def griewank_(x1,x2):\n",
    "    A = x1**2/4000 + x2**2/4000\n",
    "    B = np.cos(x1/np.sqrt(1))*np.cos(x2/np.sqrt(2))\n",
    "    return A-B+1"
   ]
  },
  {
   "attachments": {},
   "cell_type": "markdown",
   "metadata": {},
   "source": [
    "A **refined global optimizer with multi-start** is:\n",
    "\n",
    "1. Choose *bounds* for $\\mathbf{x}$ and *tolerance* $\\tau > 0$.\n",
    "2. Choose number of *warm-up iterations*, $\\underline{K} > 0$ and *maximum number of iterations*, $K > \\underline{K}$.\n",
    "3. In each iteration for $k \\in \\{0,1,\\dots,K-1\\}$:\n",
    "\n",
    "    A. Draw random $\\mathbf{x}^k$ uniformly within chosen bounds.\n",
    "\n",
    "    B. If $k < \\underline{K}$ go to step E.\n",
    "\n",
    "    C. Calculate $\\chi^k = 0.50\\cdot\\frac{2}{1+\\exp((k-\\underline{K})/100)}$  \n",
    "\n",
    "    D. Set $\\mathbf{x}^{k0} = \\chi^k \\mathbf{x}^k + (1-\\chi^k)\\mathbf{x}^{\\ast} $\n",
    "\n",
    "    E. Run optimizer with $\\mathbf{x}^{k0}$ as initial guess and $\\mathbf{x}^{k\\ast}$ as result.\n",
    "\n",
    "    F. Set $\\mathbf{x}^{\\ast} = \\mathbf{x}^{k\\ast}$ if $k = 0$ or $f(\\mathbf{x}^{k\\ast}) < f(\\mathbf{x}^{\\ast})$\n",
    "\n",
    "    G. If $f(\\mathbf{x}^{\\ast}) < \\tau$ go to step 4.\n",
    "\n",
    "4. Return the result $\\mathbf{x}^{\\ast}$."
   ]
  },
  {
   "attachments": {},
   "cell_type": "markdown",
   "metadata": {},
   "source": [
    "As settings we choose:\n",
    "\n",
    "* $x_1,x_2 \\in  [-600,600]$\n",
    "* $\\tau = 10^{-8}$\n",
    "* $\\underline{K}=10$\n",
    "* $K=1000$\n",
    "\n",
    "The optimizer in Step 3.E is `BFGS` with a tolerance of $\\tau$."
   ]
  },
  {
   "attachments": {},
   "cell_type": "markdown",
   "metadata": {},
   "source": [
    "**Question 1:** Implement the refined global optimizer with multi-start. Illustrate how the effective initial guesses $\\mathbf{x}^{k0}$ vary with the iteration counter $k$."
   ]
  },
  {
   "cell_type": "code",
   "execution_count": null,
   "metadata": {},
   "outputs": [],
   "source": [
    "# write your code here"
   ]
  },
  {
   "attachments": {},
   "cell_type": "markdown",
   "metadata": {},
   "source": [
    "**Question 2:** Is it a better idea to set $\\underline{K} = 100$? Is the convergence faster?"
   ]
  },
  {
   "cell_type": "code",
   "execution_count": null,
   "metadata": {},
   "outputs": [],
   "source": [
    "# write your code here"
   ]
  }
 ],
 "metadata": {
  "kernelspec": {
   "display_name": "base",
   "language": "python",
   "name": "python3"
  },
  "language_info": {
   "codemirror_mode": {
    "name": "ipython",
    "version": 3
   },
   "file_extension": ".py",
   "mimetype": "text/x-python",
   "name": "python",
   "nbconvert_exporter": "python",
   "pygments_lexer": "ipython3",
   "version": "3.9.16"
  },
  "orig_nbformat": 4
 },
 "nbformat": 4,
 "nbformat_minor": 2
}
